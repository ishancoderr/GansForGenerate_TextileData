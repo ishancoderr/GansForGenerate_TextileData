{
  "nbformat": 4,
  "nbformat_minor": 0,
  "metadata": {
    "colab": {
      "provenance": [],
      "gpuType": "T4",
      "authorship_tag": "ABX9TyP0IEvh6frVU1nffnAM/Jox",
      "include_colab_link": true
    },
    "kernelspec": {
      "name": "python3",
      "display_name": "Python 3"
    },
    "language_info": {
      "name": "python"
    },
    "accelerator": "GPU"
  },
  "cells": [
    {
      "cell_type": "markdown",
      "metadata": {
        "id": "view-in-github",
        "colab_type": "text"
      },
      "source": [
        "<a href=\"https://colab.research.google.com/github/ishancoderr/GansForGenerate_TextileData/blob/main/GansForGenerateTouserData.ipynb\" target=\"_parent\"><img src=\"https://colab.research.google.com/assets/colab-badge.svg\" alt=\"Open In Colab\"/></a>"
      ]
    },
    {
      "cell_type": "code",
      "execution_count": 1,
      "metadata": {
        "colab": {
          "base_uri": "https://localhost:8080/"
        },
        "id": "4nfFK4viPRRo",
        "outputId": "b4ec114d-59f0-4583-9dcf-37ec77d9c730"
      },
      "outputs": [
        {
          "output_type": "stream",
          "name": "stdout",
          "text": [
            "Sat Jan  6 19:26:44 2024       \n",
            "+---------------------------------------------------------------------------------------+\n",
            "| NVIDIA-SMI 535.104.05             Driver Version: 535.104.05   CUDA Version: 12.2     |\n",
            "|-----------------------------------------+----------------------+----------------------+\n",
            "| GPU  Name                 Persistence-M | Bus-Id        Disp.A | Volatile Uncorr. ECC |\n",
            "| Fan  Temp   Perf          Pwr:Usage/Cap |         Memory-Usage | GPU-Util  Compute M. |\n",
            "|                                         |                      |               MIG M. |\n",
            "|=========================================+======================+======================|\n",
            "|   0  Tesla T4                       Off | 00000000:00:04.0 Off |                    0 |\n",
            "| N/A   58C    P8              10W /  70W |      0MiB / 15360MiB |      0%      Default |\n",
            "|                                         |                      |                  N/A |\n",
            "+-----------------------------------------+----------------------+----------------------+\n",
            "                                                                                         \n",
            "+---------------------------------------------------------------------------------------+\n",
            "| Processes:                                                                            |\n",
            "|  GPU   GI   CI        PID   Type   Process name                            GPU Memory |\n",
            "|        ID   ID                                                             Usage      |\n",
            "|=======================================================================================|\n",
            "|  No running processes found                                                           |\n",
            "+---------------------------------------------------------------------------------------+\n"
          ]
        }
      ],
      "source": [
        "!nvidia-smi"
      ]
    },
    {
      "cell_type": "code",
      "source": [
        "# Install git library (if not already installed)\n",
        "!pip install gitpython\n",
        "\n",
        "# Clone the GitHub repository\n",
        "!git clone https://github.com/ishancoderr/GansForGenerate_TextileData.git\n",
        "\n",
        "# Move to the directory containing the data\n",
        "%cd GansForGenerate_TextileData/TrousersAnd\n",
        "\n",
        "# List the files in the directory to verify that the data is present\n",
        "!ls\n",
        "\n",
        "# Now you can use imutils to list image files\n",
        "from imutils import paths\n",
        "\n",
        "# Specify the path to the directory containing image files\n",
        "directory = '.'\n",
        "\n",
        "# List all image files in the directory\n",
        "image_files = list(paths.list_images(directory))\n",
        "\n",
        "# Display the list of image files\n",
        "print(image_files)"
      ],
      "metadata": {
        "colab": {
          "base_uri": "https://localhost:8080/"
        },
        "id": "-Yvi3F1MPUHD",
        "outputId": "24bf3d86-6897-4f7d-98be-f0805ef96921"
      },
      "execution_count": 2,
      "outputs": [
        {
          "output_type": "stream",
          "name": "stdout",
          "text": [
            "Collecting gitpython\n",
            "  Downloading GitPython-3.1.40-py3-none-any.whl (190 kB)\n",
            "\u001b[?25l     \u001b[90m━━━━━━━━━━━━━━━━━━━━━━━━━━━━━━━━━━━━━━━━\u001b[0m \u001b[32m0.0/190.6 kB\u001b[0m \u001b[31m?\u001b[0m eta \u001b[36m-:--:--\u001b[0m\r\u001b[2K     \u001b[91m━━━━━━━━━━━━━━━━━━━━━━━━━\u001b[0m\u001b[91m╸\u001b[0m\u001b[90m━━━━━━━━━━━━━━\u001b[0m \u001b[32m122.9/190.6 kB\u001b[0m \u001b[31m3.6 MB/s\u001b[0m eta \u001b[36m0:00:01\u001b[0m\r\u001b[2K     \u001b[90m━━━━━━━━━━━━━━━━━━━━━━━━━━━━━━━━━━━━━━━━\u001b[0m \u001b[32m190.6/190.6 kB\u001b[0m \u001b[31m3.8 MB/s\u001b[0m eta \u001b[36m0:00:00\u001b[0m\n",
            "\u001b[?25hCollecting gitdb<5,>=4.0.1 (from gitpython)\n",
            "  Downloading gitdb-4.0.11-py3-none-any.whl (62 kB)\n",
            "\u001b[?25l     \u001b[90m━━━━━━━━━━━━━━━━━━━━━━━━━━━━━━━━━━━━━━━━\u001b[0m \u001b[32m0.0/62.7 kB\u001b[0m \u001b[31m?\u001b[0m eta \u001b[36m-:--:--\u001b[0m\r\u001b[2K     \u001b[90m━━━━━━━━━━━━━━━━━━━━━━━━━━━━━━━━━━━━━━━━\u001b[0m \u001b[32m62.7/62.7 kB\u001b[0m \u001b[31m7.3 MB/s\u001b[0m eta \u001b[36m0:00:00\u001b[0m\n",
            "\u001b[?25hCollecting smmap<6,>=3.0.1 (from gitdb<5,>=4.0.1->gitpython)\n",
            "  Downloading smmap-5.0.1-py3-none-any.whl (24 kB)\n",
            "Installing collected packages: smmap, gitdb, gitpython\n",
            "Successfully installed gitdb-4.0.11 gitpython-3.1.40 smmap-5.0.1\n",
            "Cloning into 'GansForGenerate_TextileData'...\n",
            "remote: Enumerating objects: 87, done.\u001b[K\n",
            "remote: Counting objects: 100% (24/24), done.\u001b[K\n",
            "remote: Compressing objects: 100% (24/24), done.\u001b[K\n",
            "remote: Total 87 (delta 4), reused 0 (delta 0), pack-reused 63\u001b[K\n",
            "Receiving objects: 100% (87/87), 470.60 KiB | 12.72 MiB/s, done.\n",
            "Resolving deltas: 100% (5/5), done.\n",
            "[Errno 2] No such file or directory: 'GansForGenerate_TextileData/TrousersAnd'\n",
            "/content\n",
            "GansForGenerate_TextileData  sample_data\n",
            "['./GansForGenerate_TextileData/trousers/9.jpg', './GansForGenerate_TextileData/trousers/10.jpg', './GansForGenerate_TextileData/trousers/7.jpg', './GansForGenerate_TextileData/trousers/8.jpg', './GansForGenerate_TextileData/trousers/6.jpg', './GansForGenerate_TextileData/trousers/4.jpg', './GansForGenerate_TextileData/trousers/11.jpg', './GansForGenerate_TextileData/trousers/5.jpg', './GansForGenerate_TextileData/trousers/1.jpg', './GansForGenerate_TextileData/trousers/3.jpg', './GansForGenerate_TextileData/trousers/2.jpg']\n"
          ]
        }
      ]
    },
    {
      "cell_type": "code",
      "source": [
        "impaths = image_files"
      ],
      "metadata": {
        "id": "JEcZvbvdPlFb"
      },
      "execution_count": 5,
      "outputs": []
    },
    {
      "cell_type": "code",
      "source": [
        "# Importing libraries\n",
        "import numpy as np\n",
        "import pandas as pd\n",
        "import glob\n",
        "import imageio\n",
        "import matplotlib.pyplot as plt\n",
        "import os\n",
        "import tensorflow as tf\n",
        "from tensorflow.keras import layers\n",
        "from keras.layers import Dense, Reshape, Flatten, Conv2D, Conv2DTranspose, LeakyReLU, Dropout\n",
        "from keras.initializers import RandomNormal\n",
        "from tensorflow.keras.optimizers import Adam\n",
        "from numpy.random import randn\n",
        "from numpy.random import randint\n",
        "import time\n",
        "from IPython import display\n",
        "import cv2\n",
        "from imutils import paths"
      ],
      "metadata": {
        "id": "NkfaNtmrQLFU"
      },
      "execution_count": 7,
      "outputs": []
    },
    {
      "cell_type": "code",
      "source": [
        "# Define a function to plot a single image\n",
        "def plotExampleImage(img_n):\n",
        "    # Load the image using cv2.imread and save it to a variable called \"img\"\n",
        "    img = cv2.imread(impaths[img_n])\n",
        "    # Get the shape of the image using np.shape\n",
        "    np.shape(img)\n",
        "    # Convert the color format of the image from BGR to RGB using cv2.cvtColor\n",
        "    img = cv2.cvtColor(img, cv2.COLOR_BGR2RGB)\n",
        "    # Show the image using plt.imshow\n",
        "    plt.imshow(img)\n",
        "    # Turn off the axis labels using plt.axis('off')\n",
        "    plt.axis('off')\n",
        "\n",
        "# Create a new figure with size 12x8 using plt.figure\n",
        "plt.figure(figsize=(3,3))\n",
        "\n",
        "# Loop over the first 24 images in the dataset and plot each one using plotExampleImage\n",
        "for k in range(10):\n",
        "    # Create a subplot with 4 rows and 6 columns, and select the kth subplot\n",
        "    plt.subplot(5,2,k+1)\n",
        "    # Plot the kth image using plotExampleImage\n",
        "    plotExampleImage(k)\n",
        "\n",
        "# Adjust the spacing between the subplots using plt.subplots_adjust\n",
        "plt.subplots_adjust(wspace=0.05, hspace=0.05)"
      ],
      "metadata": {
        "colab": {
          "base_uri": "https://localhost:8080/",
          "height": 268
        },
        "id": "Juv3v71bPp-A",
        "outputId": "5e56550b-6ec2-4b37-9ba7-5aa437b0c57c"
      },
      "execution_count": 12,
      "outputs": [
        {
          "output_type": "display_data",
          "data": {
            "text/plain": [
              "<Figure size 300x300 with 10 Axes>"
            ],
            "image/png": "[encoded data removed]"
          },
          "metadata": {}
        }
      ]
    },
    {
      "cell_type": "markdown",
      "source": [
        "So, by enabling NumPy-like behavior in TensorFlow, it's as if you're telling TensorFlow to understand and work with data in a way that's similar to how NumPy does things. This can make it easier for people who are familiar with NumPy to use TensorFlow without having to learn a completely different set of conventions"
      ],
      "metadata": {
        "id": "0ZQYSpRDQoKB"
      }
    },
    {
      "cell_type": "code",
      "source": [
        "from tensorflow.python.ops.numpy_ops import np_config\n",
        "np_config.enable_numpy_behavior()"
      ],
      "metadata": {
        "id": "s84a_Z0rQjLj"
      },
      "execution_count": 13,
      "outputs": []
    },
    {
      "cell_type": "code",
      "source": [
        "np.random.seed(42)\n",
        "tf.random.set_seed(42)"
      ],
      "metadata": {
        "id": "TpE-eFg3Qulz"
      },
      "execution_count": 14,
      "outputs": []
    },
    {
      "cell_type": "markdown",
      "source": [
        "tf.random.set_seed(42) (TensorFlow):\n",
        "\n",
        "Why: TensorFlow also uses random numbers, especially in neural network initialization and certain operations.\n",
        "\n",
        "How: Similar to NumPy, setting the TensorFlow random seed ensures reproducibility. If you use the same seed (42), you'll get the same random behavior in TensorFlow each time you run your code.\n",
        "\n",
        "setting random seeds helps make your code predictable. If someone else runs your code or if you need to rerun it later, having fixed seeds ensures that the randomness is consistent, making it easier to compare results or debug issues."
      ],
      "metadata": {
        "id": "pBIn0m22Q6UY"
      }
    },
    {
      "cell_type": "code",
      "source": [],
      "metadata": {
        "id": "yPPEcpWTQ8ka"
      },
      "execution_count": null,
      "outputs": []
    }
  ]
}